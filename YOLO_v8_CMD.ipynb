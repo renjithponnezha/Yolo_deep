{
 "cells": [
  {
   "cell_type": "markdown",
   "metadata": {
    "id": "P7JZ3IeCX36S"
   },
   "source": [
    "#Modes:\n",
    "\n",
    "train, val, predict\n",
    "\n",
    "#Tasks:\n",
    "\n",
    "detect, segment, classify\n",
    "\n",
    "#Data:\n",
    "\n",
    "Format can be differ for task type, Supports data.yaml, data_folder, data_name"
   ]
  },
  {
   "cell_type": "markdown",
   "metadata": {
    "id": "J-UNok5za4EB"
   },
   "source": [
    "# Installation"
   ]
  },
  {
   "cell_type": "code",
   "execution_count": 1,
   "metadata": {
    "colab": {
     "base_uri": "https://localhost:8080/"
    },
    "executionInfo": {
     "elapsed": 5234,
     "status": "ok",
     "timestamp": 1728488650523,
     "user": {
      "displayName": "Shivam Pandey",
      "userId": "09364170959834321998"
     },
     "user_tz": 420
    },
    "id": "HrH9uyhXa6lC",
    "outputId": "54c39f1f-6e25-4804-eb23-4bf91578cc07"
   },
   "outputs": [],
   "source": [
    "!pip install ultralytics --quiet"
   ]
  },
  {
   "cell_type": "markdown",
   "metadata": {
    "id": "uVvHxTpnayvw"
   },
   "source": [
    "## CMD"
   ]
  },
  {
   "cell_type": "code",
   "execution_count": 2,
   "metadata": {
    "colab": {
     "base_uri": "https://localhost:8080/"
    },
    "executionInfo": {
     "elapsed": 644,
     "status": "ok",
     "timestamp": 1724304990285,
     "user": {
      "displayName": "Shivam Pandey",
      "userId": "09364170959834321998"
     },
     "user_tz": -330
    },
    "id": "1x1ROswscR6o",
    "outputId": "fe25e2db-044e-48af-e66f-68091ca921c2"
   },
   "outputs": [
    {
     "name": "stderr",
     "output_type": "stream",
     "text": [
      "'pwd' is not recognized as an internal or external command,\n",
      "operable program or batch file.\n"
     ]
    }
   ],
   "source": [
    "!pwd"
   ]
  },
  {
   "cell_type": "markdown",
   "metadata": {
    "id": "oDJiCWsuYksB"
   },
   "source": [
    "# 1. Detection:"
   ]
  },
  {
   "cell_type": "code",
   "execution_count": 18,
   "metadata": {
    "colab": {
     "base_uri": "https://localhost:8080/"
    },
    "executionInfo": {
     "elapsed": 11318,
     "status": "ok",
     "timestamp": 1728488789478,
     "user": {
      "displayName": "Shivam Pandey",
      "userId": "09364170959834321998"
     },
     "user_tz": 420
    },
    "id": "_M7dGopyXtph",
    "outputId": "3ec4de45-3ef1-4fda-d891-7ab33f514242"
   },
   "outputs": [
    {
     "name": "stdout",
     "output_type": "stream",
     "text": [
      "Ultralytics 8.3.76 🚀 Python-3.9.21 torch-2.6.0+cpu CPU (Intel Core(TM) i7-9700 3.00GHz)\n",
      "YOLO11n summary (fused): 100 layers, 2,616,248 parameters, 0 gradients, 6.5 GFLOPs\n",
      "\n"
     ]
    },
    {
     "name": "stderr",
     "output_type": "stream",
     "text": [
      "Traceback (most recent call last):\n",
      "  File \"C:\\Users\\gg\\anaconda3\\envs\\deep\\lib\\runpy.py\", line 197, in _run_module_as_main\n",
      "    return _run_code(code, main_globals, None,\n",
      "  File \"C:\\Users\\gg\\anaconda3\\envs\\deep\\lib\\runpy.py\", line 87, in _run_code\n",
      "    exec(code, run_globals)\n",
      "  File \"C:\\Users\\gg\\anaconda3\\envs\\deep\\Scripts\\yolo.exe\\__main__.py\", line 7, in <module>\n",
      "  File \"C:\\Users\\gg\\anaconda3\\envs\\deep\\lib\\site-packages\\ultralytics\\cfg\\__init__.py\", line 986, in entrypoint\n",
      "    getattr(model, mode)(**overrides)  # default args from model\n",
      "  File \"C:\\Users\\gg\\anaconda3\\envs\\deep\\lib\\site-packages\\ultralytics\\engine\\model.py\", line 560, in predict\n",
      "    return self.predictor.predict_cli(source=source) if is_cli else self.predictor(source=source, stream=stream)\n",
      "  File \"C:\\Users\\gg\\anaconda3\\envs\\deep\\lib\\site-packages\\ultralytics\\engine\\predictor.py\", line 190, in predict_cli\n",
      "    for _ in gen:  # sourcery skip: remove-empty-nested-block, noqa\n",
      "  File \"C:\\Users\\gg\\anaconda3\\envs\\deep\\lib\\site-packages\\torch\\utils\\_contextlib.py\", line 36, in generator_context\n",
      "    response = gen.send(None)\n",
      "  File \"C:\\Users\\gg\\anaconda3\\envs\\deep\\lib\\site-packages\\ultralytics\\engine\\predictor.py\", line 233, in stream_inference\n",
      "    self.setup_source(source if source is not None else self.args.source)\n",
      "  File \"C:\\Users\\gg\\anaconda3\\envs\\deep\\lib\\site-packages\\ultralytics\\engine\\predictor.py\", line 205, in setup_source\n",
      "    self.dataset = load_inference_source(\n",
      "  File \"C:\\Users\\gg\\anaconda3\\envs\\deep\\lib\\site-packages\\ultralytics\\data\\build.py\", line 214, in load_inference_source\n",
      "    dataset = LoadImagesAndVideos(source, batch=batch, vid_stride=vid_stride)\n",
      "  File \"C:\\Users\\gg\\anaconda3\\envs\\deep\\lib\\site-packages\\ultralytics\\data\\loaders.py\", line 341, in __init__\n",
      "    raise FileNotFoundError(f\"{p} does not exist\")\n",
      "FileNotFoundError: 4315-178218581_large.mp4 does not exist\n"
     ]
    }
   ],
   "source": [
    "!yolo task=detect mode=predict model=yolo11n.pt source=\"4315-178218581_large.mp4\""
   ]
  },
  {
   "cell_type": "markdown",
   "metadata": {
    "id": "LhfAQY28Y5Dx"
   },
   "source": [
    "# 2. Segmentation:"
   ]
  },
  {
   "cell_type": "code",
   "execution_count": 20,
   "metadata": {
    "colab": {
     "base_uri": "https://localhost:8080/"
    },
    "executionInfo": {
     "elapsed": 7015,
     "status": "ok",
     "timestamp": 1728489139545,
     "user": {
      "displayName": "Shivam Pandey",
      "userId": "09364170959834321998"
     },
     "user_tz": 420
    },
    "id": "s9U1fjFLY9qZ",
    "outputId": "a22b0800-0414-46f9-e90f-999087a919d1"
   },
   "outputs": [
    {
     "name": "stdout",
     "output_type": "stream",
     "text": [
      "Ultralytics 8.3.76 🚀 Python-3.9.21 torch-2.6.0+cpu CPU (Intel Core(TM) i7-9700 3.00GHz)\n",
      "YOLO11n-seg summary (fused): 113 layers, 2,868,664 parameters, 0 gradients, 10.4 GFLOPs\n",
      "\n",
      "image 1/1 c:\\Users\\gg\\Desktop\\Deeplearning\\yolo\\images.jpg: 448x640 3 persons, 1 handbag, 110.1ms\n",
      "Speed: 2.5ms preprocess, 110.1ms inference, 4.5ms postprocess per image at shape (1, 3, 448, 640)\n",
      "Results saved to \u001b[1mruns\\segment\\predict\u001b[0m\n",
      "💡 Learn more at https://docs.ultralytics.com/modes/predict\n"
     ]
    }
   ],
   "source": [
    "!yolo task=segment mode=predict model=yolo11n-seg.pt source=\"images.jpg\""
   ]
  },
  {
   "cell_type": "code",
   "execution_count": 12,
   "metadata": {
    "id": "W52rnbHo7G_n"
   },
   "outputs": [
    {
     "name": "stderr",
     "output_type": "stream",
     "text": [
      "'rm' is not recognized as an internal or external command,\n",
      "operable program or batch file.\n"
     ]
    }
   ],
   "source": [
    "!rm -rf /content/runs"
   ]
  },
  {
   "cell_type": "markdown",
   "metadata": {
    "id": "dvKMoCCkasmf"
   },
   "source": [
    "## Python Script"
   ]
  },
  {
   "cell_type": "code",
   "execution_count": 22,
   "metadata": {
    "colab": {
     "base_uri": "https://localhost:8080/"
    },
    "executionInfo": {
     "elapsed": 5261,
     "status": "ok",
     "timestamp": 1718270960048,
     "user": {
      "displayName": "Shivam Pandey",
      "userId": "09364170959834321998"
     },
     "user_tz": -330
    },
    "id": "471GwJWFaO85",
    "outputId": "bb6627a7-eefa-4ae0-e7f5-42151c4009ef"
   },
   "outputs": [
    {
     "name": "stdout",
     "output_type": "stream",
     "text": [
      "\n",
      "image 1/1 c:\\Users\\gg\\Desktop\\Deeplearning\\yolo\\images.jpg: 448x640 3 persons, 1 handbag, 80.8ms\n",
      "Speed: 2.1ms preprocess, 80.8ms inference, 4.4ms postprocess per image at shape (1, 3, 448, 640)\n"
     ]
    },
    {
     "data": {
      "text/plain": [
       "[ultralytics.engine.results.Results object with attributes:\n",
       " \n",
       " boxes: ultralytics.engine.results.Boxes object\n",
       " keypoints: None\n",
       " masks: ultralytics.engine.results.Masks object\n",
       " names: {0: 'person', 1: 'bicycle', 2: 'car', 3: 'motorcycle', 4: 'airplane', 5: 'bus', 6: 'train', 7: 'truck', 8: 'boat', 9: 'traffic light', 10: 'fire hydrant', 11: 'stop sign', 12: 'parking meter', 13: 'bench', 14: 'bird', 15: 'cat', 16: 'dog', 17: 'horse', 18: 'sheep', 19: 'cow', 20: 'elephant', 21: 'bear', 22: 'zebra', 23: 'giraffe', 24: 'backpack', 25: 'umbrella', 26: 'handbag', 27: 'tie', 28: 'suitcase', 29: 'frisbee', 30: 'skis', 31: 'snowboard', 32: 'sports ball', 33: 'kite', 34: 'baseball bat', 35: 'baseball glove', 36: 'skateboard', 37: 'surfboard', 38: 'tennis racket', 39: 'bottle', 40: 'wine glass', 41: 'cup', 42: 'fork', 43: 'knife', 44: 'spoon', 45: 'bowl', 46: 'banana', 47: 'apple', 48: 'sandwich', 49: 'orange', 50: 'broccoli', 51: 'carrot', 52: 'hot dog', 53: 'pizza', 54: 'donut', 55: 'cake', 56: 'chair', 57: 'couch', 58: 'potted plant', 59: 'bed', 60: 'dining table', 61: 'toilet', 62: 'tv', 63: 'laptop', 64: 'mouse', 65: 'remote', 66: 'keyboard', 67: 'cell phone', 68: 'microwave', 69: 'oven', 70: 'toaster', 71: 'sink', 72: 'refrigerator', 73: 'book', 74: 'clock', 75: 'vase', 76: 'scissors', 77: 'teddy bear', 78: 'hair drier', 79: 'toothbrush'}\n",
       " obb: None\n",
       " orig_img: array([[[196, 204, 203],\n",
       "         [197, 205, 204],\n",
       "         [197, 205, 204],\n",
       "         ...,\n",
       "         [224, 231, 228],\n",
       "         [207, 209, 203],\n",
       "         [218, 214, 209]],\n",
       " \n",
       "        [[197, 205, 204],\n",
       "         [197, 205, 204],\n",
       "         [197, 205, 204],\n",
       "         ...,\n",
       "         [224, 231, 228],\n",
       "         [207, 209, 203],\n",
       "         [218, 214, 209]],\n",
       " \n",
       "        [[197, 205, 204],\n",
       "         [197, 205, 204],\n",
       "         [197, 205, 204],\n",
       "         ...,\n",
       "         [224, 231, 228],\n",
       "         [207, 209, 203],\n",
       "         [218, 214, 209]],\n",
       " \n",
       "        ...,\n",
       " \n",
       "        [[195, 193, 183],\n",
       "         [195, 193, 183],\n",
       "         [195, 193, 183],\n",
       "         ...,\n",
       "         [239, 250, 248],\n",
       "         [236, 247, 245],\n",
       "         [232, 243, 241]],\n",
       " \n",
       "        [[200, 198, 188],\n",
       "         [200, 198, 188],\n",
       "         [200, 198, 188],\n",
       "         ...,\n",
       "         [239, 250, 248],\n",
       "         [237, 248, 246],\n",
       "         [233, 244, 242]],\n",
       " \n",
       "        [[201, 199, 189],\n",
       "         [201, 199, 189],\n",
       "         [201, 199, 189],\n",
       "         ...,\n",
       "         [240, 251, 249],\n",
       "         [237, 248, 246],\n",
       "         [233, 244, 242]]], dtype=uint8)\n",
       " orig_shape: (183, 275)\n",
       " path: 'c:\\\\Users\\\\gg\\\\Desktop\\\\Deeplearning\\\\yolo\\\\images.jpg'\n",
       " probs: None\n",
       " save_dir: 'runs\\\\segment\\\\predict2'\n",
       " speed: {'preprocess': 2.062399999886111, 'inference': 80.80639999980122, 'postprocess': 4.364100000202598}]"
      ]
     },
     "execution_count": 22,
     "metadata": {},
     "output_type": "execute_result"
    }
   ],
   "source": [
    "from ultralytics import YOLO\n",
    "\n",
    "# Load a segmentation model\n",
    "model = YOLO(\"yolo11n-seg.pt\")\n",
    "model.predict(source=\"images.jpg\")"
   ]
  },
  {
   "cell_type": "markdown",
   "metadata": {
    "id": "a8ocmWB6cww5"
   },
   "source": [
    "# 3. Classification:"
   ]
  },
  {
   "cell_type": "code",
   "execution_count": null,
   "metadata": {
    "colab": {
     "base_uri": "https://localhost:8080/"
    },
    "id": "zLNSTczyccx6",
    "outputId": "90cea24c-ca61-4a30-8e78-27ab2fa27e56"
   },
   "outputs": [
    {
     "name": "stdout",
     "output_type": "stream",
     "text": [
      "Downloading https://github.com/ultralytics/assets/releases/download/v0.0.0/yolov8n-cls.pt to yolov8n-cls.pt...\n",
      "100% 5.28M/5.28M [00:00<00:00, 8.07MB/s]\n",
      "\n",
      "Ultralytics YOLOv8.0.22 🚀 Python-3.8.10 torch-1.13.1+cu116 CUDA:0 (Tesla T4, 15110MiB)\n",
      "YOLOv8n-cls summary (fused): 73 layers, 2715880 parameters, 0 gradients, 4.3 GFLOPs\n",
      "Downloading https://ultralytics.com/assets/Arial.ttf to /root/.config/Ultralytics/Arial.ttf...\n",
      "\n",
      "image 1/1 /content/images/1.jpg: 160x224 n01990800 0.00, n03461385 0.00, n03355925 0.00, n02108551 0.00, n02783161 0.00, 5.1ms\n",
      "Speed: 0.3ms pre-process, 5.1ms inference, 0.1ms postprocess per image at shape (1, 3, 224, 224)\n"
     ]
    }
   ],
   "source": [
    "!yolo task=classify mode=predict model=yolov8n-cls.pt source=\"images/1.jpg\""
   ]
  },
  {
   "cell_type": "code",
   "execution_count": null,
   "metadata": {
    "id": "f2q6tQPgccvo"
   },
   "outputs": [],
   "source": []
  }
 ],
 "metadata": {
  "accelerator": "GPU",
  "colab": {
   "gpuType": "T4",
   "provenance": []
  },
  "kernelspec": {
   "display_name": "deep",
   "language": "python",
   "name": "python3"
  },
  "language_info": {
   "codemirror_mode": {
    "name": "ipython",
    "version": 3
   },
   "file_extension": ".py",
   "mimetype": "text/x-python",
   "name": "python",
   "nbconvert_exporter": "python",
   "pygments_lexer": "ipython3",
   "version": "3.9.21"
  }
 },
 "nbformat": 4,
 "nbformat_minor": 0
}
